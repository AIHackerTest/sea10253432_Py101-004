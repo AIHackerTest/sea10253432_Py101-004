{
 "cells": [
  {
   "cell_type": "markdown",
   "metadata": {},
   "source": [
    "# # 猜数字小游戏"
   ]
  },
  {
   "cell_type": "code",
   "execution_count": null,
   "metadata": {},
   "outputs": [
    {
     "name": "stdout",
     "output_type": "stream",
     "text": [
      "这是一个小游戏，请猜一个 20 以内的数字，\n",
      "你有 10 次机会哦，开始吧！\n",
      "第 1 次：10\n",
      "大了，再来一次！\n",
      "第 2 次：5\n",
      "小了，再来一次！\n",
      "第 3 次：7\n",
      "小了，再来一次！\n",
      "第 4 次：8\n",
      "正确！恭喜你猜中了！！！游戏结束！\n"
     ]
    }
   ],
   "source": [
    "# _*_ coding:utf-8 _*_\n",
    "\"\"\"猜数字小游戏\"\"\"\n",
    "\n",
    "import random\n",
    "from sys import exit\n",
    "\n",
    "random_num = random.randint(1, 19)\n",
    "\n",
    "print(\"\"\"这是一个小游戏，请猜一个 20 以内的数字，\n",
    "你有 10 次机会哦，开始吧！\"\"\")\n",
    "\n",
    "for i in range(0,10):\n",
    "    tips = \"第 %d 次：\" % (i + 1)\n",
    "    input_num = int(input(tips))\n",
    "    if input_num == random_num:\n",
    "        print(\"正确！恭喜你猜中了！！！游戏结束！\")\n",
    "    elif input_num > random_num:\n",
    "        print(\"大了，再来一次！\")\n",
    "    else:\n",
    "        print(\"小了，再来一次！\")\n",
    "\n",
    "print(\"你已经用完了所有的机会，游戏结束！\")\n"
   ]
  },
  {
   "cell_type": "code",
   "execution_count": null,
   "metadata": {
    "collapsed": true
   },
   "outputs": [],
   "source": [
    "1+2"
   ]
  },
  {
   "cell_type": "code",
   "execution_count": null,
   "metadata": {
    "collapsed": true
   },
   "outputs": [],
   "source": []
  },
  {
   "cell_type": "code",
   "execution_count": null,
   "metadata": {
    "collapsed": true
   },
   "outputs": [],
   "source": []
  },
  {
   "cell_type": "code",
   "execution_count": null,
   "metadata": {
    "collapsed": true
   },
   "outputs": [],
   "source": []
  }
 ],
 "metadata": {
  "kernelspec": {
   "display_name": "Python 3",
   "language": "python",
   "name": "python3"
  },
  "language_info": {
   "codemirror_mode": {
    "name": "ipython",
    "version": 3
   },
   "file_extension": ".py",
   "mimetype": "text/x-python",
   "name": "python",
   "nbconvert_exporter": "python",
   "pygments_lexer": "ipython3",
   "version": "3.6.1"
  }
 },
 "nbformat": 4,
 "nbformat_minor": 2
}
