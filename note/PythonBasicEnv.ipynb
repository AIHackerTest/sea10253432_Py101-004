{
 "cells": [
  {
   "cell_type": "markdown",
   "metadata": {},
   "source": [
    "# Python 基础环境\n",
    "\n",
    "## Python 版本\n",
    "目前 Python 主流版本\n",
    "- Python 2.7.x\n",
    "- Python 3.6.x\n",
    "\n",
    "Python 2.x 版本和Python 3.x 版本不完全兼容，建议初学使用 3.6.x 版本。\n",
    "\n",
    "## Python 安装\n",
    "建议使用[Anaconda](https://www.continuum.io/downloads)，支持 Linux, Mac, Windows系统，提供了包管理与环境管理的功能，可以很方便地解决多版本Python安装、切换、并存以及各种第三方包安装问题。\n",
    "\n",
    "\n",
    "\n"
   ]
  },
  {
   "cell_type": "code",
   "execution_count": null,
   "metadata": {
    "collapsed": true
   },
   "outputs": [],
   "source": []
  }
 ],
 "metadata": {
  "kernelspec": {
   "display_name": "Python 3",
   "language": "python",
   "name": "python3"
  },
  "language_info": {
   "codemirror_mode": {
    "name": "ipython",
    "version": 3
   },
   "file_extension": ".py",
   "mimetype": "text/x-python",
   "name": "python",
   "nbconvert_exporter": "python",
   "pygments_lexer": "ipython3",
   "version": "3.6.1"
  }
 },
 "nbformat": 4,
 "nbformat_minor": 2
}
